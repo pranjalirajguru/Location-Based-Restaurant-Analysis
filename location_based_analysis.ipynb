{
 "cells": [
  {
   "cell_type": "code",
   "execution_count": 1,
   "id": "24877c28",
   "metadata": {},
   "outputs": [
    {
     "name": "stdout",
     "output_type": "stream",
     "text": [
      "Loaded dataset: Dataset .csv\n",
      "Shape: (9551, 21)\n",
      "Columns: ['ï»¿Restaurant ID', 'Restaurant Name', 'Country Code', 'City', 'Address', 'Locality', 'Locality Verbose', 'Longitude', 'Latitude', 'Cuisines', 'Average Cost for two', 'Currency', 'Has Table booking', 'Has Online delivery', 'Is delivering now', 'Switch to order menu', 'Price range', 'Aggregate rating', 'Rating color', 'Rating text', 'Votes']\n"
     ]
    }
   ],
   "source": [
    "# location_based_analysis.py\n",
    "# --------------------------------------------------\n",
    "# Location-Based Restaurant Analysis (Cognifyz)\n",
    "# --------------------------------------------------\n",
    "# What this script does:\n",
    "# 1) Loads the provided Zomato-style dataset (\"Dataset .csv\" or \"Dataset.csv\")\n",
    "# 2) Cleans coordinates and basic fields\n",
    "# 3) Creates interactive maps (MarkerCluster + Heatmap) with Folium\n",
    "# 4) Builds city & locality summaries (counts, avg rating, avg price range)\n",
    "# 5) Extracts cuisine insights (overall & per city)\n",
    "# 6) Saves clean CSV summaries and Matplotlib charts for your report\n",
    "#\n",
    "# Outputs saved to the current folder:\n",
    "# - map_cluster_top1000.html\n",
    "# - map_cluster_full.html (may be large; use locally)\n",
    "# - map_heat.html\n",
    "# - map_heat_top500.html\n",
    "# - city_summary.csv\n",
    "# - locality_summary.csv\n",
    "# - top_localities_per_city.csv\n",
    "# - top_cuisines_overall.csv\n",
    "# - top3_cuisines_by_city.csv\n",
    "# - top_cities_by_count.png\n",
    "# - top_cities_by_rating_threshold.png\n",
    "#\n",
    "# How to run:\n",
    "# 1) Put this file and the dataset CSV in the same folder.\n",
    "# 2) Make sure you have packages:\n",
    "#       pip install pandas folium matplotlib\n",
    "# 3) Run:\n",
    "#       python location_based_analysis.py\n",
    "# --------------------------------------------------\n",
    "\n",
    "import os\n",
    "import math\n",
    "import pandas as pd\n",
    "import numpy as np\n",
    "import matplotlib.pyplot as plt\n",
    "\n",
    "# Optional: import folium only when needed to avoid errors if not installed\n",
    "try:\n",
    "    import folium\n",
    "    from folium.plugins import MarkerCluster, HeatMap\n",
    "    FOLIUM_AVAILABLE = True\n",
    "except Exception as _:\n",
    "    FOLIUM_AVAILABLE = False\n",
    "    print(\"Note: folium is not installed. Maps will be skipped. Install with: pip install folium\")\n",
    "\n",
    "# --------------------------------\n",
    "# Load dataset (supports two names)\n",
    "# --------------------------------\n",
    "csv_paths = [\"Dataset .csv\", \"Dataset.csv\"]\n",
    "df = None\n",
    "for p in csv_paths:\n",
    "    if os.path.exists(p):\n",
    "        try:\n",
    "            df = pd.read_csv(p, encoding=\"latin-1\")\n",
    "            print(f\"Loaded dataset: {p}\")\n",
    "            break\n",
    "        except Exception as e:\n",
    "            print(f\"Found {p} but failed to read due to: {e}\")\n",
    "if df is None:\n",
    "    raise FileNotFoundError(\"Dataset file not found. Place 'Dataset .csv' or 'Dataset.csv' beside this script.\")\n",
    "\n",
    "print(\"Shape:\", df.shape)\n",
    "print(\"Columns:\", list(df.columns))"
   ]
  },
  {
   "cell_type": "code",
   "execution_count": 2,
   "id": "66b2c197",
   "metadata": {},
   "outputs": [
    {
     "name": "stdout",
     "output_type": "stream",
     "text": [
      "After cleaning, shape: (9551, 22)\n"
     ]
    }
   ],
   "source": [
    "# --------------------------------\n",
    "# Basic cleaning & standard fields\n",
    "# --------------------------------\n",
    "# Ensure expected columns exist\n",
    "required_cols = [\n",
    "    'Latitude', 'Longitude', 'City', 'Locality', 'Cuisines',\n",
    "    'Aggregate rating', 'Price range', 'Votes', 'Restaurant Name'\n",
    "]\n",
    "missing = [c for c in required_cols if c not in df.columns]\n",
    "if missing:\n",
    "    raise ValueError(f\"Missing required columns: {missing}\")\n",
    "\n",
    "# Enforce numeric types where useful\n",
    "for col in ['Latitude', 'Longitude', 'Aggregate rating', 'Price range', 'Votes']:\n",
    "    df[col] = pd.to_numeric(df[col], errors='coerce')\n",
    "\n",
    "# Keep valid coordinates\n",
    "df = df[(df['Latitude'].between(-90, 90)) & (df['Longitude'].between(-180, 180))].copy()\n",
    "\n",
    "# Treat rating 0 as missing for averages\n",
    "df['Rating_for_avg'] = df['Aggregate rating'].replace(0, np.nan)\n",
    "\n",
    "# Fill missing Cuisines with 'Unknown'\n",
    "df['Cuisines'] = df['Cuisines'].fillna('Unknown')\n",
    "\n",
    "# Drop obvious duplicates by Restaurant Name + City + Locality + coordinates\n",
    "df = df.drop_duplicates(subset=['Restaurant Name', 'City', 'Locality', 'Latitude', 'Longitude'])\n",
    "\n",
    "print(\"After cleaning, shape:\", df.shape)"
   ]
  },
  {
   "cell_type": "code",
   "execution_count": 3,
   "id": "30704f6b",
   "metadata": {},
   "outputs": [
    {
     "name": "stdout",
     "output_type": "stream",
     "text": [
      "Saved: map_cluster_top1000.html\n",
      "Saved: map_cluster_full.html (may be large)\n",
      "Saved: map_heat.html\n",
      "Saved: map_heat_top500.html\n"
     ]
    }
   ],
   "source": [
    "# --------------------------------\n",
    "# Interactive Maps (Folium)\n",
    "# --------------------------------\n",
    "center = [df['Latitude'].mean(), df['Longitude'].mean()]\n",
    "\n",
    "if FOLIUM_AVAILABLE:\n",
    "    # MarkerCluster (Top 1000 by rating then votes) — shareable size\n",
    "    df_top = df.sort_values(['Aggregate rating', 'Votes'], ascending=[False, False]).head(1000)\n",
    "    m_cluster = folium.Map(location=center, zoom_start=3)\n",
    "    cluster = MarkerCluster().add_to(m_cluster)\n",
    "    for _, r in df_top.iterrows():\n",
    "        popup = folium.Popup(\n",
    "            f\"<b>{r.get('Restaurant Name','')}</b><br>\"\n",
    "            f\"City: {r.get('City','')}<br>\"\n",
    "            f\"Locality: {r.get('Locality','')}<br>\"\n",
    "            f\"Cuisines: {r.get('Cuisines','')}<br>\"\n",
    "            f\"Rating: {r.get('Aggregate rating', np.nan)} | Votes: {r.get('Votes', np.nan)}\",\n",
    "            max_width=350\n",
    "        )\n",
    "        folium.Marker([r['Latitude'], r['Longitude']], tooltip=r.get('Restaurant Name',''), popup=popup).add_to(cluster)\n",
    "    m_cluster.save(\"map_cluster_top1000.html\")\n",
    "    print(\"Saved: map_cluster_top1000.html\")\n",
    "\n",
    "    # Full dataset cluster (bigger file – open locally)\n",
    "    m_full = folium.Map(location=center, zoom_start=3)\n",
    "    cluster_full = MarkerCluster().add_to(m_full)\n",
    "    for _, r in df.iterrows():\n",
    "        popup = folium.Popup(\n",
    "            f\"<b>{r.get('Restaurant Name','')}</b><br>\"\n",
    "            f\"City: {r.get('City','')}<br>\"\n",
    "            f\"Locality: {r.get('Locality','')}<br>\"\n",
    "            f\"Cuisines: {r.get('Cuisines','')}<br>\"\n",
    "            f\"Rating: {r.get('Aggregate rating', np.nan)} | Votes: {r.get('Votes', np.nan)}\",\n",
    "            max_width=350\n",
    "        )\n",
    "        folium.Marker([r['Latitude'], r['Longitude']], tooltip=r.get('Restaurant Name',''), popup=popup).add_to(cluster_full)\n",
    "    m_full.save(\"map_cluster_full.html\")\n",
    "    print(\"Saved: map_cluster_full.html (may be large)\")\n",
    "\n",
    "    # Heatmap (all points)\n",
    "    m_heat = folium.Map(location=center, zoom_start=3)\n",
    "    heat_data = df[['Latitude','Longitude']].dropna().values.tolist()\n",
    "    HeatMap(heat_data, radius=8, blur=6).add_to(m_heat)\n",
    "    m_heat.save(\"map_heat.html\")\n",
    "    print(\"Saved: map_heat.html\")\n",
    "\n",
    "    # Heatmap (top 500 by rating & votes)\n",
    "    df_top500 = df.sort_values(['Aggregate rating','Votes'], ascending=[False, False]).head(500)\n",
    "    m_heat_top = folium.Map(location=center, zoom_start=4)\n",
    "    HeatMap(df_top500[['Latitude','Longitude']].dropna().values.tolist(), radius=8, blur=6).add_to(m_heat_top)\n",
    "    m_heat_top.save(\"map_heat_top500.html\")\n",
    "    print(\"Saved: map_heat_top500.html\")"
   ]
  },
  {
   "cell_type": "code",
   "execution_count": 4,
   "id": "852cb085",
   "metadata": {},
   "outputs": [
    {
     "name": "stdout",
     "output_type": "stream",
     "text": [
      "Saved: city_summary.csv\n",
      "Saved: top_cities_by_count.png\n",
      "Saved: top_cities_by_rating_threshold.png\n"
     ]
    }
   ],
   "source": [
    "# --------------------------------\n",
    "# City-level summaries & charts\n",
    "# --------------------------------\n",
    "city_counts = df['City'].value_counts().rename('Restaurants')\n",
    "city_avg_rating = df.groupby('City')['Rating_for_avg'].mean().rename('Avg_Rating')\n",
    "city_avg_price = df.groupby('City')['Price range'].mean().rename('Avg_PriceRange')\n",
    "\n",
    "city_summary = pd.concat([city_counts, city_avg_rating, city_avg_price], axis=1).sort_values('Restaurants', ascending=False)\n",
    "city_summary.to_csv(\"city_summary.csv\", index=True)\n",
    "print(\"Saved: city_summary.csv\")\n",
    "\n",
    "# Charts with matplotlib (no seaborn, no explicit colors)\n",
    "plt.figure(figsize=(10,5))\n",
    "city_counts.head(10).plot(kind='bar')\n",
    "plt.title(\"Top 10 Cities by Number of Restaurants\")\n",
    "plt.xlabel(\"City\"); plt.ylabel(\"Restaurants\"); plt.xticks(rotation=45, ha='right')\n",
    "plt.tight_layout(); plt.savefig(\"top_cities_by_count.png\"); plt.close()\n",
    "print(\"Saved: top_cities_by_count.png\")\n",
    "\n",
    "# Avoid small-sample bias: only consider cities with >= 20 restaurants\n",
    "eligible = city_summary[city_summary['Restaurants'] >= 20]['Avg_Rating'].dropna().sort_values(ascending=False).head(10)\n",
    "plt.figure(figsize=(10,5))\n",
    "eligible.plot(kind='bar')\n",
    "plt.title(\"Top 10 Cities by Avg Rating (>= 20 restaurants)\")\n",
    "plt.xlabel(\"City\"); plt.ylabel(\"Average Rating\"); plt.xticks(rotation=45, ha='right')\n",
    "plt.tight_layout(); plt.savefig(\"top_cities_by_rating_threshold.png\"); plt.close()\n",
    "print(\"Saved: top_cities_by_rating_threshold.png\")"
   ]
  },
  {
   "cell_type": "code",
   "execution_count": 5,
   "id": "2d50b09d",
   "metadata": {},
   "outputs": [
    {
     "name": "stdout",
     "output_type": "stream",
     "text": [
      "Saved: locality_summary.csv\n",
      "Saved: top_localities_per_city.csv\n"
     ]
    }
   ],
   "source": [
    "# --------------------------------\n",
    "# Locality-level summaries\n",
    "# --------------------------------\n",
    "locality_grp = df.groupby(['City','Locality']).agg(\n",
    "    Restaurants=('Restaurant Name','count'),\n",
    "    Avg_Rating=('Rating_for_avg','mean'),\n",
    "    Avg_PriceRange=('Price range','mean')\n",
    ").reset_index().sort_values(['City','Restaurants'], ascending=[True, False])\n",
    "locality_grp.to_csv(\"locality_summary.csv\", index=False)\n",
    "print(\"Saved: locality_summary.csv\")\n",
    "\n",
    "# Top localities per city (by restaurant count) - top 10 each\n",
    "top_localities = (locality_grp.sort_values(['City','Restaurants'], ascending=[True, False])\n",
    "                             .groupby('City').head(10))\n",
    "top_localities.to_csv(\"top_localities_per_city.csv\", index=False)\n",
    "print(\"Saved: top_localities_per_city.csv\")"
   ]
  },
  {
   "cell_type": "code",
   "execution_count": 6,
   "id": "358a2c01",
   "metadata": {},
   "outputs": [
    {
     "name": "stdout",
     "output_type": "stream",
     "text": [
      "Saved: top_cuisines_overall.csv\n",
      "Saved: top3_cuisines_by_city.csv\n",
      "Correlation between Avg Price Range and Avg Rating across cities: 0.396\n",
      "\n",
      "All done ✅\n",
      "Now open the HTML maps in your browser and attach the CSVs/PNGs in your report.\n"
     ]
    }
   ],
   "source": [
    "# --------------------------------\n",
    "# Cuisine insights\n",
    "# --------------------------------\n",
    "c = df[['City','Cuisines']].copy()\n",
    "c['Cuisines'] = c['Cuisines'].fillna('Unknown').astype(str).str.split(', ')\n",
    "c = c.explode('Cuisines')\n",
    "\n",
    "top_cuisines_overall = c['Cuisines'].value_counts()\n",
    "top_cuisines_overall.to_csv(\"top_cuisines_overall.csv\", header=['Count'])\n",
    "print(\"Saved: top_cuisines_overall.csv\")\n",
    "\n",
    "top3_by_city = (c.groupby(['City','Cuisines']).size().reset_index(name='Count')\n",
    "                  .sort_values(['City','Count'], ascending=[True, False])\n",
    "                  .groupby('City').head(3))\n",
    "top3_by_city.to_csv(\"top3_cuisines_by_city.csv\", index=False)\n",
    "print(\"Saved: top3_cuisines_by_city.csv\")\n",
    "\n",
    "# --------------------------------\n",
    "# Extra: Simple correlation check (price vs rating at city level)\n",
    "# --------------------------------\n",
    "corr_df = city_summary.dropna(subset=['Avg_Rating','Avg_PriceRange'])\n",
    "corr_val = corr_df['Avg_Rating'].corr(corr_df['Avg_PriceRange'])\n",
    "print(f\"Correlation between Avg Price Range and Avg Rating across cities: {corr_val:.3f}\")\n",
    "\n",
    "print(\"\\nAll done ✅\")\n",
    "print(\"Now open the HTML maps in your browser and attach the CSVs/PNGs in your report.\")"
   ]
  },
  {
   "cell_type": "code",
   "execution_count": null,
   "id": "88783b86",
   "metadata": {},
   "outputs": [],
   "source": []
  }
 ],
 "metadata": {
  "kernelspec": {
   "display_name": "Python 3 (ipykernel)",
   "language": "python",
   "name": "python3"
  },
  "language_info": {
   "codemirror_mode": {
    "name": "ipython",
    "version": 3
   },
   "file_extension": ".py",
   "mimetype": "text/x-python",
   "name": "python",
   "nbconvert_exporter": "python",
   "pygments_lexer": "ipython3",
   "version": "3.9.12"
  }
 },
 "nbformat": 4,
 "nbformat_minor": 5
}
